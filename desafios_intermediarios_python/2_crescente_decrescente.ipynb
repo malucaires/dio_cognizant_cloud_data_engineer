{
 "cells": [
  {
   "cell_type": "code",
   "execution_count": null,
   "id": "dee3ea11",
   "metadata": {},
   "outputs": [],
   "source": [
    "#Desafio\n",
    "#TODO: Complete os espaços em branco com uma possível solução para o problema.\n",
    "X, Y = map(int, input().split())\n",
    "while ( X != Y ):\n",
    "    floor = min(X, Y)\n",
    "    top = max(X, Y)\n",
    "    if (X < Y):\n",
    "        print(\"Crescente\")\n",
    "    elif (X > Y):\n",
    "        print(\"Decrescente\")\n",
    "    X, Y = map(int, input().split())"
   ]
  }
 ],
 "metadata": {
  "kernelspec": {
   "display_name": "Python 3",
   "language": "python",
   "name": "python3"
  },
  "language_info": {
   "codemirror_mode": {
    "name": "ipython",
    "version": 3
   },
   "file_extension": ".py",
   "mimetype": "text/x-python",
   "name": "python",
   "nbconvert_exporter": "python",
   "pygments_lexer": "ipython3",
   "version": "3.8.8"
  }
 },
 "nbformat": 4,
 "nbformat_minor": 5
}
