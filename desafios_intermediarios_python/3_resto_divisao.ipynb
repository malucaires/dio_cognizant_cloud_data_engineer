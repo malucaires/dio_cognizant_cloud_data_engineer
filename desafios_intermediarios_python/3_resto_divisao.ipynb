{
 "cells": [
  {
   "cell_type": "code",
   "execution_count": 1,
   "id": "69d12eba",
   "metadata": {},
   "outputs": [
    {
     "name": "stdout",
     "output_type": "stream",
     "text": [
      "10\n",
      "18\n",
      "12\n",
      "13\n",
      "17\n"
     ]
    }
   ],
   "source": [
    "#TODO: Complete os espaços em branco com uma possível solução para o problema.\n",
    "\n",
    "X = int(input())\n",
    "Y = int(input())\n",
    "if (Y > X):\n",
    "    for i in range(X + 1, Y):\n",
    "      if (i % 5 == 2) or (i % 5 == 3):\n",
    "        print(i)\n",
    "elif (X > Y):\n",
    "    for i in range(Y + 1, X):\n",
    "      if (i % 5 == 2) or (i % 5 == 3):\n",
    "        print(i)"
   ]
  }
 ],
 "metadata": {
  "kernelspec": {
   "display_name": "Python 3",
   "language": "python",
   "name": "python3"
  },
  "language_info": {
   "codemirror_mode": {
    "name": "ipython",
    "version": 3
   },
   "file_extension": ".py",
   "mimetype": "text/x-python",
   "name": "python",
   "nbconvert_exporter": "python",
   "pygments_lexer": "ipython3",
   "version": "3.8.8"
  }
 },
 "nbformat": 4,
 "nbformat_minor": 5
}
