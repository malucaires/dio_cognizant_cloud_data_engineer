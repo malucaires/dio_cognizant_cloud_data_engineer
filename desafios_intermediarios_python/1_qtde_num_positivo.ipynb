{
 "cells": [
  {
   "cell_type": "code",
   "execution_count": 1,
   "id": "6cab9618",
   "metadata": {},
   "outputs": [
    {
     "name": "stdout",
     "output_type": "stream",
     "text": [
      "7\n",
      "-5\n",
      "6\n",
      "-3.4\n",
      "4.6\n",
      "12\n",
      "4 valores positivos\n"
     ]
    }
   ],
   "source": [
    "#Desafio\n",
    "#TODO: Complete os espaços em branco com uma solução possível para o problema.\n",
    "counter = 0\n",
    "for i in range(6):\n",
    "    number = float(input())\n",
    "    if number > 0:\n",
    "      counter+=1 \n",
    "print(f\"{counter} valores positivos\")"
   ]
  }
 ],
 "metadata": {
  "kernelspec": {
   "display_name": "Python 3",
   "language": "python",
   "name": "python3"
  },
  "language_info": {
   "codemirror_mode": {
    "name": "ipython",
    "version": 3
   },
   "file_extension": ".py",
   "mimetype": "text/x-python",
   "name": "python",
   "nbconvert_exporter": "python",
   "pygments_lexer": "ipython3",
   "version": "3.8.8"
  }
 },
 "nbformat": 4,
 "nbformat_minor": 5
}
