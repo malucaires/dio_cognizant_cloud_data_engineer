{
 "cells": [
  {
   "cell_type": "code",
   "execution_count": 1,
   "id": "df1f39c5",
   "metadata": {},
   "outputs": [
    {
     "name": "stdout",
     "output_type": "stream",
     "text": [
      "556\n",
      "0:9:16\n"
     ]
    }
   ],
   "source": [
    "#Desafio\n",
    "segundos = int(input())\n",
    "minutos = int(segundos/60) #TODO Implementar a formula para calcular os minutos.\n",
    "segundos = int(segundos-(minutos * 60))\n",
    "horas = int(minutos/60) #TODO Implementar a formula para calcular as horas.\n",
    "minutos = int(minutos - (horas * 60))\n",
    "\n",
    "print(\"{}:{}:{}\".format(horas, minutos, segundos))"
   ]
  },
  {
   "cell_type": "code",
   "execution_count": 2,
   "id": "ee5e5c2d",
   "metadata": {},
   "outputs": [
    {
     "name": "stdout",
     "output_type": "stream",
     "text": [
      "0:9:16\n"
     ]
    }
   ],
   "source": [
    "#Teste 1 - Dado de entrada: 556 | Saída esperada: 0:9:16 \n",
    "\n",
    "segundos = int(556)\n",
    "minutos = int(segundos/60) #TODO Implementar a formula para calcular os minutos.\n",
    "segundos = int(segundos-(minutos * 60))\n",
    "horas = int(minutos/60) #TODO Implementar a formula para calcular as horas.\n",
    "minutos = int(minutos - (horas * 60))\n",
    "\n",
    "print(\"{}:{}:{}\".format(horas, minutos, segundos))"
   ]
  },
  {
   "cell_type": "code",
   "execution_count": 3,
   "id": "ddb669bf",
   "metadata": {},
   "outputs": [
    {
     "name": "stdout",
     "output_type": "stream",
     "text": [
      "0:0:1\n"
     ]
    }
   ],
   "source": [
    "#Teste 2 - Dado de entrada: 1 | Saída esperada: 0:0:1\n",
    "\n",
    "segundos = int(1)\n",
    "minutos = int(segundos/60) #TODO Implementar a formula para calcular os minutos.\n",
    "segundos = int(segundos-(minutos * 60))\n",
    "horas = int(minutos/60) #TODO Implementar a formula para calcular as horas.\n",
    "minutos = int(minutos - (horas * 60))\n",
    "\n",
    "print(\"{}:{}:{}\".format(horas, minutos, segundos))"
   ]
  }
 ],
 "metadata": {
  "kernelspec": {
   "display_name": "Python 3",
   "language": "python",
   "name": "python3"
  },
  "language_info": {
   "codemirror_mode": {
    "name": "ipython",
    "version": 3
   },
   "file_extension": ".py",
   "mimetype": "text/x-python",
   "name": "python",
   "nbconvert_exporter": "python",
   "pygments_lexer": "ipython3",
   "version": "3.8.8"
  }
 },
 "nbformat": 4,
 "nbformat_minor": 5
}
