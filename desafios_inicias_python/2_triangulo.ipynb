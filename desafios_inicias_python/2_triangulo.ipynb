{
 "cells": [
  {
   "cell_type": "code",
   "execution_count": 1,
   "id": "0d47f628",
   "metadata": {},
   "outputs": [
    {
     "name": "stdout",
     "output_type": "stream",
     "text": [
      "6 4 2\n",
      "Area = 10.0\n"
     ]
    }
   ],
   "source": [
    "#Desafio\n",
    "lados = [float(x) for x in input().split()]\n",
    "\n",
    "a = lados[0];\n",
    "b = lados[1];\n",
    "c = lados[2];\n",
    "\n",
    "if a + b > c and a + c > b and b + c > a:\n",
    "    #TODO Preencha a formula do perímeto do triangulo (soma de todos os lados).\n",
    "    print(f\"Perimetro = {(a + b + c):.1f}\")\n",
    "else:\n",
    "    #TODO Preencha a formula da área do trapézio: AREA = ((A + B) x C) / 2\n",
    "    print(f\"Area = {(((a + b) * c) / 2):.1f}\")"
   ]
  },
  {
   "cell_type": "code",
   "execution_count": 2,
   "id": "0caa0bad",
   "metadata": {},
   "outputs": [
    {
     "name": "stdout",
     "output_type": "stream",
     "text": [
      "Area = 10.0\n"
     ]
    }
   ],
   "source": [
    "#Teste 1 - Dado de entrada: 6.0 4.0 2.0 | Saída esperada: Area = 10.0\n",
    "\n",
    "lados = [6.0, 4.0, 2.0]\n",
    "\n",
    "a = lados[0];\n",
    "b = lados[1];\n",
    "c = lados[2];\n",
    "\n",
    "if a + b > c and a + c > b and b + c > a:\n",
    "    #TODO Preencha a formula do perímeto do triangulo (soma de todos os lados).\n",
    "    print(f\"Perimetro = {(a + b + c):.1f}\")\n",
    "else:\n",
    "    #TODO Preencha a formula da área do trapézio: AREA = ((A + B) x C) / 2\n",
    "    print(f\"Area = {(((a + b) * c) / 2):.1f}\")"
   ]
  }
 ],
 "metadata": {
  "kernelspec": {
   "display_name": "Python 3",
   "language": "python",
   "name": "python3"
  },
  "language_info": {
   "codemirror_mode": {
    "name": "ipython",
    "version": 3
   },
   "file_extension": ".py",
   "mimetype": "text/x-python",
   "name": "python",
   "nbconvert_exporter": "python",
   "pygments_lexer": "ipython3",
   "version": "3.8.8"
  }
 },
 "nbformat": 4,
 "nbformat_minor": 5
}
