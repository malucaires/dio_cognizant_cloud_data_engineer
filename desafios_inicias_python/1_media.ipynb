{
 "cells": [
  {
   "cell_type": "code",
   "execution_count": 1,
   "id": "ccd1ba3d",
   "metadata": {},
   "outputs": [
    {
     "name": "stdout",
     "output_type": "stream",
     "text": [
      "3.3\n",
      "5\n",
      "MEDIA = 4.45909\n"
     ]
    }
   ],
   "source": [
    "#Desafio\n",
    "a = float(input())\n",
    "b = float(input())\n",
    "\n",
    "#TODO: Complete os espaços em branco com as respectivas variáveis para o cálculo da média.\n",
    "media = (a * 3.5 +  b * 7.5) / 11\n",
    "\n",
    "#TODO: Complete com a variável que representa o resultado da média.\n",
    "print(f'MEDIA = {media :.5f}')"
   ]
  },
  {
   "cell_type": "code",
   "execution_count": 2,
   "id": "b88b9a4c",
   "metadata": {},
   "outputs": [
    {
     "name": "stdout",
     "output_type": "stream",
     "text": [
      "MEDIA = 4.45909\n"
     ]
    }
   ],
   "source": [
    "#Teste 4 - Dado de entrada: 3.3 5.0 | Saída esperada: MEDIA = 4.45909\n",
    "\n",
    "a = float(3.3)\n",
    "b = float(5.0)\n",
    "\n",
    "#TODO: Complete os espaços em branco com as respectivas variáveis para o cálculo da média.\n",
    "media = (a * 3.5 +  b * 7.5) / 11\n",
    "\n",
    "#TODO: Complete com a variável que representa o resultado da média.\n",
    "print(f'MEDIA = {media :.5f}')"
   ]
  },
  {
   "cell_type": "code",
   "execution_count": 3,
   "id": "d398e225",
   "metadata": {},
   "outputs": [
    {
     "name": "stdout",
     "output_type": "stream",
     "text": [
      "MEDIA = 18.59545\n"
     ]
    }
   ],
   "source": [
    "#Teste 5 - Dado de entrada: 20.3 17.8 | Saída esperada: MEDIA = 18.59545\n",
    "\n",
    "a = float(20.3)\n",
    "b = float(17.8)\n",
    "\n",
    "#TODO: Complete os espaços em branco com as respectivas variáveis para o cálculo da média.\n",
    "media = (a * 3.5 +  b * 7.5) / 11\n",
    "\n",
    "#TODO: Complete com a variável que representa o resultado da média.\n",
    "print(f'MEDIA = {media :.5f}')"
   ]
  }
 ],
 "metadata": {
  "kernelspec": {
   "display_name": "Python 3",
   "language": "python",
   "name": "python3"
  },
  "language_info": {
   "codemirror_mode": {
    "name": "ipython",
    "version": 3
   },
   "file_extension": ".py",
   "mimetype": "text/x-python",
   "name": "python",
   "nbconvert_exporter": "python",
   "pygments_lexer": "ipython3",
   "version": "3.8.8"
  }
 },
 "nbformat": 4,
 "nbformat_minor": 5
}
