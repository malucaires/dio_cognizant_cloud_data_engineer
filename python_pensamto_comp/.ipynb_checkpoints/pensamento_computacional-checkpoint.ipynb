{
 "cells": [
  {
   "cell_type": "code",
   "execution_count": 1,
   "id": "05895e6a",
   "metadata": {
    "scrolled": true
   },
   "outputs": [
    {
     "name": "stdout",
     "output_type": "stream",
     "text": [
      "6.0\n"
     ]
    }
   ],
   "source": [
    "'''Abstração: Ação de ignorar os detalhes de uma solução de modo\n",
    "que ela possa ser válida para diversos problemas. É isolar aspectos\n",
    "relevantes de um todo e considerá-lo de forma individual.'''\n",
    "\n",
    "nota_aluno1 = 7.0\n",
    "nota_aluno2 = 5.0\n",
    "soma_alunos = nota_aluno1 + nota_aluno2\n",
    "qtde_alunos = 2\n",
    "media = soma_alunos / qtde_alunos\n",
    "print(media)"
   ]
  },
  {
   "cell_type": "code",
   "execution_count": 2,
   "id": "6c9738a9",
   "metadata": {},
   "outputs": [
    {
     "name": "stdout",
     "output_type": "stream",
     "text": [
      "Posso comprar\n"
     ]
    }
   ],
   "source": [
    "'''Pensamento algorítmico: Ação de pensar a solução de um problema\n",
    "a partir de uma sequência finita de passos'''\n",
    "\n",
    "arroz_kg = 7.00\n",
    "feijao_kg = 9.00\n",
    "carne_kg = 35.00\n",
    "\n",
    "if arroz_kg <= 10:\n",
    "    print('Posso comprar')\n",
    "else:\n",
    "    print('Não posso comprar')"
   ]
  },
  {
   "cell_type": "code",
   "execution_count": 3,
   "id": "e8d46f87",
   "metadata": {},
   "outputs": [
    {
     "name": "stdout",
     "output_type": "stream",
     "text": [
      "2350.0\n"
     ]
    }
   ],
   "source": [
    "'''Decomposição: Ação de dividir um problema maior em partes menores'''\n",
    "\n",
    "salario_bruto = 1650.00\n",
    "descontos = 300.00\n",
    "vendas_mes = 50\n",
    "valor_comissao = 20.00\n",
    "\n",
    "valor_total_vendas = valor_comissao * vendas_mes\n",
    "\n",
    "salario_liquido = salario_bruto + valor_total_vendas - descontos\n",
    "\n",
    "print(salario_liquido)"
   ]
  },
  {
   "cell_type": "code",
   "execution_count": 4,
   "id": "a0715b08",
   "metadata": {},
   "outputs": [
    {
     "name": "stdout",
     "output_type": "stream",
     "text": [
      "Digite o preço do item: 5\n",
      "Posso comprar\n",
      "Digite o preço do item: 7\n",
      "Posso comprar\n",
      "Digite o preço do item: 15\n",
      "Não posso comprar\n"
     ]
    }
   ],
   "source": [
    "'''Identicação de padrões: Ação de descrever o que vai acontecer\n",
    "com base em eventos anteriores'''\n",
    "\n",
    "for i in range(3):\n",
    "    valor = float(input('Digite o preço do item: '))\n",
    "    if valor <= 10:\n",
    "        print('Posso comprar')\n",
    "    else:\n",
    "        print('Não posso comprar')"
   ]
  }
 ],
 "metadata": {
  "kernelspec": {
   "display_name": "Python 3",
   "language": "python",
   "name": "python3"
  },
  "language_info": {
   "codemirror_mode": {
    "name": "ipython",
    "version": 3
   },
   "file_extension": ".py",
   "mimetype": "text/x-python",
   "name": "python",
   "nbconvert_exporter": "python",
   "pygments_lexer": "ipython3",
   "version": "3.8.8"
  }
 },
 "nbformat": 4,
 "nbformat_minor": 5
}
