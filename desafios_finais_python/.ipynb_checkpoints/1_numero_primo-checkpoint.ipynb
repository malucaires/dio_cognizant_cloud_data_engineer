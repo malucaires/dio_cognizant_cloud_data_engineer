{
 "cells": [
  {
   "cell_type": "code",
   "execution_count": 1,
   "id": "4f7dc258",
   "metadata": {},
   "outputs": [
    {
     "name": "stdout",
     "output_type": "stream",
     "text": [
      "3\n",
      "8\n",
      "8 nao eh primo\n",
      "51\n",
      "51 nao eh primo\n",
      "7\n",
      "7 eh primo\n"
     ]
    }
   ],
   "source": [
    "#TODO: Complete os espaços em branco com uma solução possível\n",
    "n = int(input())\n",
    "for i in range(n):\n",
    "    num = int(input())\n",
    "    sum = 0\n",
    "\n",
    "    for j in range(1, (num+1)):\n",
    "        if num%j == 0:\n",
    "            sum += 1       \n",
    "   \n",
    "    if sum != (2):\n",
    "        print(f'{num} nao eh primo')\n",
    "\n",
    "    else:\n",
    "        print(f'{num} eh primo')"
   ]
  }
 ],
 "metadata": {
  "kernelspec": {
   "display_name": "Python 3",
   "language": "python",
   "name": "python3"
  },
  "language_info": {
   "codemirror_mode": {
    "name": "ipython",
    "version": 3
   },
   "file_extension": ".py",
   "mimetype": "text/x-python",
   "name": "python",
   "nbconvert_exporter": "python",
   "pygments_lexer": "ipython3",
   "version": "3.8.8"
  }
 },
 "nbformat": 4,
 "nbformat_minor": 5
}
