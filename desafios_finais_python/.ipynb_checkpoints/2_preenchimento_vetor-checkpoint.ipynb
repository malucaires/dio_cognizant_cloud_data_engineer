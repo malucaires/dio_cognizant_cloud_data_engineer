{
 "cells": [
  {
   "cell_type": "code",
   "execution_count": 1,
   "id": "948fa533",
   "metadata": {},
   "outputs": [
    {
     "name": "stdout",
     "output_type": "stream",
     "text": [
      "51\n",
      "N[0] = 51\n",
      "N[1] = 102\n",
      "N[2] = 204\n",
      "N[3] = 408\n",
      "N[4] = 816\n",
      "N[5] = 1632\n",
      "N[6] = 3264\n",
      "N[7] = 6528\n",
      "N[8] = 13056\n",
      "N[9] = 26112\n"
     ]
    }
   ],
   "source": [
    "x = int(input())\n",
    "n = list()\n",
    "\n",
    "#TODO: Complete os espaços em branco com uma solução possível para o problema.\n",
    "for i in range (10):\n",
    "    n.append(x)\n",
    "    x *= 2\n",
    "    print(f\"N[{i}] = {n[i]}\")"
   ]
  }
 ],
 "metadata": {
  "kernelspec": {
   "display_name": "Python 3",
   "language": "python",
   "name": "python3"
  },
  "language_info": {
   "codemirror_mode": {
    "name": "ipython",
    "version": 3
   },
   "file_extension": ".py",
   "mimetype": "text/x-python",
   "name": "python",
   "nbconvert_exporter": "python",
   "pygments_lexer": "ipython3",
   "version": "3.8.8"
  }
 },
 "nbformat": 4,
 "nbformat_minor": 5
}
