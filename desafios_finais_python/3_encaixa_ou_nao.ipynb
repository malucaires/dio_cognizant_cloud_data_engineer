{
 "cells": [
  {
   "cell_type": "code",
   "execution_count": null,
   "id": "5e1760a2",
   "metadata": {},
   "outputs": [],
   "source": [
    "#TODO: Complete os espaços em branco com uma solução possível para o problema.\n",
    "n = int(input())\n",
    "for i in range(n):\n",
    "    x, y = input().split()\n",
    "    teste = 0\n",
    "    cont = 0\n",
    "    if len(y) > len(x):\n",
    "        print(\"nao encaixa\")\n",
    " \n",
    "    else:\n",
    "        for j in range(len(y)):\n",
    "            teste -= 1\n",
    "            if x[teste] == y[teste]:\n",
    "                cont += 1\n",
    " \n",
    "        if cont == len(y):\n",
    "            print(\"encaixa\")\n",
    " \n",
    "        else:\n",
    "            print(\"nao encaixa\")"
   ]
  }
 ],
 "metadata": {
  "kernelspec": {
   "display_name": "Python 3",
   "language": "python",
   "name": "python3"
  },
  "language_info": {
   "codemirror_mode": {
    "name": "ipython",
    "version": 3
   },
   "file_extension": ".py",
   "mimetype": "text/x-python",
   "name": "python",
   "nbconvert_exporter": "python",
   "pygments_lexer": "ipython3",
   "version": "3.8.8"
  }
 },
 "nbformat": 4,
 "nbformat_minor": 5
}
