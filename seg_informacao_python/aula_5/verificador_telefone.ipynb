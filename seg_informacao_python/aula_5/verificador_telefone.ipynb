{
 "cells": [
  {
   "cell_type": "code",
   "execution_count": 1,
   "id": "2043a527",
   "metadata": {},
   "outputs": [
    {
     "name": "stdout",
     "output_type": "stream",
     "text": [
      "Requirement already satisfied: phonenumbers in c:\\users\\maluc\\anaconda3\\lib\\site-packages (8.12.46)\n"
     ]
    }
   ],
   "source": [
    "!pip install phonenumbers\n",
    "import phonenumbers\n",
    "from phonenumbers import geocoder"
   ]
  },
  {
   "cell_type": "code",
   "execution_count": 2,
   "id": "554d9ce3",
   "metadata": {},
   "outputs": [
    {
     "name": "stdout",
     "output_type": "stream",
     "text": [
      "Digite o telefone no formato +5511400028922: +551140028922\n",
      "São Paulo\n"
     ]
    }
   ],
   "source": [
    "phone = input('Digite o telefone no formato +5511400028922: ')\n",
    "phone_number = phonenumbers.parse(phone)\n",
    "\n",
    "print(geocoder.description_for_number(phone_number, 'pt'))"
   ]
  }
 ],
 "metadata": {
  "kernelspec": {
   "display_name": "Python 3",
   "language": "python",
   "name": "python3"
  },
  "language_info": {
   "codemirror_mode": {
    "name": "ipython",
    "version": 3
   },
   "file_extension": ".py",
   "mimetype": "text/x-python",
   "name": "python",
   "nbconvert_exporter": "python",
   "pygments_lexer": "ipython3",
   "version": "3.8.8"
  }
 },
 "nbformat": 4,
 "nbformat_minor": 5
}
