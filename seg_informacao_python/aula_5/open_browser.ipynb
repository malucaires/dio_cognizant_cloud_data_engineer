{
 "cells": [
  {
   "cell_type": "code",
   "execution_count": 1,
   "id": "cd0879d9",
   "metadata": {},
   "outputs": [],
   "source": [
    "import webbrowser\n",
    "from tkinter import *"
   ]
  },
  {
   "cell_type": "code",
   "execution_count": null,
   "id": "f0b222e0",
   "metadata": {},
   "outputs": [],
   "source": [
    "root = Tk( )\n",
    "\n",
    "root.title('Abrir browser')\n",
    "root.geometry('300x200')\n",
    "\n",
    "def google():\n",
    "    webbrowser.open('www.google.com')\n",
    "    \n",
    "mygoogle = Button(root, text='Abrir o Google', command='google').pack(pady=20)\n",
    "\n",
    "root.mainloop()"
   ]
  }
 ],
 "metadata": {
  "kernelspec": {
   "display_name": "Python 3",
   "language": "python",
   "name": "python3"
  },
  "language_info": {
   "codemirror_mode": {
    "name": "ipython",
    "version": 3
   },
   "file_extension": ".py",
   "mimetype": "text/x-python",
   "name": "python",
   "nbconvert_exporter": "python",
   "pygments_lexer": "ipython3",
   "version": "3.8.8"
  }
 },
 "nbformat": 4,
 "nbformat_minor": 5
}
